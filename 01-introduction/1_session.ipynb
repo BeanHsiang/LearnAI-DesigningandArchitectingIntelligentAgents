{
 "cells": [
  {
   "cell_type": "markdown",
   "metadata": {
    "collapsed": true,
    "slideshow": {
     "slide_type": "slide"
    }
   },
   "source": [
    "# Designing and Architecting Intelligent Agents"
   ]
  },
  {
   "cell_type": "markdown",
   "metadata": {
    "slideshow": {
     "slide_type": "slide"
    }
   },
   "source": [
    "## Introduction\n",
    "* About the course\n",
    "* Audience\n",
    "* Technologies\n",
    "* Learning Objectives\n",
    "* Prerequisites\n",
    "* Agenda"
   ]
  },
  {
   "attachments": {},
   "cell_type": "markdown",
   "metadata": {
    "slideshow": {
     "slide_type": "slide"
    }
   },
   "source": [
    "# About the course\n",
    "\n",
    "Welcome to \"Designing and Architecting Intelligent Agents.\" \n",
    "The goal of this course is to enable you to architect intelligent bot solutions. We will do this with technical, deep, discussion-based sessions and activities that help you advance your skills for architecting and designing intelligent bots with natural language understanding, search capabilities, and more. This course is not \"Getting Started with...\" the various services and assume a 100-200-level familiarity with the products prior to getting started.\n",
    "\n",
    "Each session should be beneficial in relative isolation, so as long as **appropriate pre-requisites are met**, an individual should be able to complete a given session without needing to complete the others.\n",
    "\n",
    "This highly interactive course covers how to deal with complexities during bot design, specifically with regards to natural language understanding (NLU), architectures, and intelligence. You will participate in deep dive discussions and cases around the principles of good bot design and LUIS schema design. You will also become familiar with the recommended reference architectures and customer case studies from the Product Group, and you'll learn when and how to use and integrate various Cognitive Services to make bots smarter."
   ]
  },
  {
   "cell_type": "markdown",
   "metadata": {
    "slideshow": {
     "slide_type": "slide"
    }
   },
   "source": [
    "## Audience  \n",
    "This 300-level course is intended for Architects that need to design chatbot-based solutions on Microsoft Azure. 300-level is defined at Microsoft as: \n",
    "\n",
    "*Advanced (300) – Material designed for participants with advanced proficiency or applied experience around a specific topic or subject matter, seeking to hone their knowledge or skill.*\n",
    "\n",
    "*Labs for Level 300 sessions include:*\n",
    "- *Diagram how a product/technology/solution is designed to be deployed, migrated, etc. while focusing on how it is actually deployed, migrated, etc.* \n",
    "- *Solve high-level troubleshooting and known limitations or issues*\n",
    "- *Demonstrate code work arounds*\n",
    "- *Conduct an in-depth conversation on this topic with the customer/partner*\n",
    "- *Execute on strategy within customer/partner accounts providing high-level expertise.*"
   ]
  },
  {
   "cell_type": "markdown",
   "metadata": {
    "slideshow": {
     "slide_type": "slide"
    }
   },
   "source": [
    "## Technologies  \n",
    "Multiple Azure technologies are used in this course with a focus on Azure Bot Services, the Microsoft Bot Framework, LUIS, and Cognitive Services."
   ]
  },
  {
   "cell_type": "markdown",
   "metadata": {
    "slideshow": {
     "slide_type": "slide"
    }
   },
   "source": [
    "## Learning Objectives  \n",
    "After completing this course, you should have the ability to:  \n",
    "* Understand the basic principles of good bot design\n",
    "* Be able to efficiently and effectively design LUIS schema, especially with regards to well-established scenarios\n",
    "* Be able to decide the most appropriate architectural components for several common bot use-cases\n",
    "* For Cognitive Services, determine when to use what and how to combine multiple to increase the intelligence and capabilities of bots \n",
    "* Be able to use the prior four learning objectives to design and architect intelligent bot solutions  "
   ]
  },
  {
   "cell_type": "markdown",
   "metadata": {
    "slideshow": {
     "slide_type": "slide"
    }
   },
   "source": [
    "## Prerequisites\n",
    "\n",
    "This course requires that you meet the following prerequisites:  \n",
    "* Experience and expertise architecting solutions or building applications on Azure and with Microsoft's AI Stack\n",
    "* Experience with LUIS\n",
    "* Familiarity with Azure Bot Services/Microsoft Bot Framework\n",
    "* Understanding of the various Cognitive Services and Capabilities  "
   ]
  },
  {
   "cell_type": "markdown",
   "metadata": {
    "slideshow": {
     "slide_type": "slide"
    }
   },
   "source": [
    "# Agenda\n",
    "\n",
    "Please note: The schedule for this agenda is subject to change pending class activities and interaction.\n",
    "\n",
    "- 8-9: Sign in\n",
    "- 9-9:20: [1.1: Introduction to the course](./01-introduction/readme.md)\n",
    "- 9:20-9:30 [Artificial Intelligence Ethics](http://aka.ms/ai-ethics)\n",
    "- 9:30-10: [2.1: Bot Design Principles](./02-bot_design/readme.md)\n",
    "-   *10-10:30: [2.2: Lab (Discovery, Envisioning) - Designing Bots](./02-bot_design/2_activity.md)*\n",
    "- 10:30-10:45: Break\n",
    "- 10:45-11:30: [3.1: LUIS Design](./03-luis/readme.md)\n",
    "-   *11:30-12: [3.2: Lab (ADS/Wireframe) - LUIS Design](./03-luis/2_activity.md)*\n",
    "- 12-1: Lunch"
   ]
  },
  {
   "cell_type": "markdown",
   "metadata": {
    "slideshow": {
     "slide_type": "slide"
    }
   },
   "source": [
    "- 1-1:30: [4.1: Reference Architectures and Common Patterns](./04-architectures/readme.md)\n",
    "-   *1:30-2: [4.2: Lab (POC) - Initial Architecture](./04-architectures/2_activity.md)*\n",
    "- 2-2:15: Break\n",
    "- 2:15-2:45: [5.1: Integration with Cognitive Services (and more)](./05-cognitive_services/readme.md)\n",
    "-   *2:45-3:15: [5.2: Lab (Handoff) - Cognitive Services](./05-cognitive_services/2_activity.md)*\n",
    "- 3:15-3:30: Break\n",
    "-   *3:30-4:45: [6.1: Capstone Project (Discovery, Envisioning, ADS, POC, Implementation, Handoff and Follow-up) ](./06-final_case/readme.md)*\n",
    "- 4:45-5: Q&A and Feedback"
   ]
  }
 ],
 "metadata": {
  "celltoolbar": "Slideshow",
  "kernelspec": {
   "display_name": "Python 3",
   "language": "python",
   "name": "python3"
  },
  "language_info": {
   "codemirror_mode": {
    "name": "ipython",
    "version": 3
   },
   "file_extension": ".py",
   "mimetype": "text/x-python",
   "name": "python",
   "nbconvert_exporter": "python",
   "pygments_lexer": "ipython3",
   "version": "3.6.5"
  }
 },
 "nbformat": 4,
 "nbformat_minor": 2
}
